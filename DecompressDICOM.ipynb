{
 "cells": [
  {
   "cell_type": "code",
   "execution_count": 3,
   "metadata": {},
   "outputs": [],
   "source": [
    "import argparse\n",
    "import os\n",
    "import sys"
   ]
  },
  {
   "cell_type": "code",
   "execution_count": 11,
   "metadata": {},
   "outputs": [],
   "source": [
    "# decompress dicom files (SGS surgery compressed DICOM)\n",
    "exepath=r'dcmdjpeg.exe' # make sure dcmtk was installed (C:\\dcmtk-3.6.5-win64-dynamic\\bin\\)\n",
    "\n",
    "def get_all_file(rawdir):\n",
    "    allfile = []\n",
    "    allfilelist=os.listdir(rawdir)\n",
    "    for f in allfilelist:\n",
    "        filepath=os.path.join(rawdir,f)\n",
    "        if os.path.isdir(filepath):\n",
    "                get_all_file(f)\n",
    "        allfile.append(filepath)\n",
    "    return allfile"
   ]
  },
  {
   "cell_type": "code",
   "execution_count": 26,
   "metadata": {},
   "outputs": [],
   "source": [
    "# path of compressed files and output path\n",
    "data_path = \"./SurgeryData/\"\n",
    "outpath = \"./Decompressed/\""
   ]
  },
  {
   "cell_type": "code",
   "execution_count": 27,
   "metadata": {},
   "outputs": [],
   "source": [
    "import os\n",
    "subfolders = [f.path for f in os.scandir(data_path) if f.is_dir() ]  "
   ]
  },
  {
   "cell_type": "code",
   "execution_count": null,
   "metadata": {},
   "outputs": [],
   "source": [
    "# decompress each of the DICOM file\n",
    "for folder in subfolders:\n",
    "    allfile = get_all_file(folder)\n",
    "    outfolder = outpath + folder[len(data_path):] + '\\\\'\n",
    "    if not os.path.exists(outfolder):\n",
    "        os.mkdir(outfolder)\n",
    "    for file in allfile:\n",
    "        filepath, filename = os.path.split(file)\n",
    "        inputpath=os.path.join(folder,filename)\n",
    "        outputpath=os.path.join(outfolder,filename)\n",
    "        os.system(exepath+' '+inputpath + ' '+outputpath)\n",
    "    print('Processed '+ folder[len(data_path):])"
   ]
  }
 ],
 "metadata": {
  "kernelspec": {
   "display_name": "Python 3",
   "language": "python",
   "name": "python3"
  },
  "language_info": {
   "codemirror_mode": {
    "name": "ipython",
    "version": 3
   },
   "file_extension": ".py",
   "mimetype": "text/x-python",
   "name": "python",
   "nbconvert_exporter": "python",
   "pygments_lexer": "ipython3",
   "version": "3.8.5"
  }
 },
 "nbformat": 4,
 "nbformat_minor": 2
}
