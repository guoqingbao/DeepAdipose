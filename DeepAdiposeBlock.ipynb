{
 "cells": [
  {
   "cell_type": "code",
   "execution_count": null,
   "metadata": {},
   "outputs": [],
   "source": [
    "import os, time\n",
    "import collections\n",
    "import platform\n",
    "import numpy as np \n",
    "import matplotlib.pyplot as plt \n",
    "import keras\n",
    "import warnings;\n",
    "warnings.filterwarnings('ignore');\n",
    "import pandas as pd\n",
    "import tensorflow as tf\n",
    "from keras.layers import Dense, Dropout, Input\n",
    "from sklearn.metrics import confusion_matrix, accuracy_score\n",
    "from matplotlib.pyplot import cm\n",
    "from keras.models import Model\n",
    "from keras.models import Sequential, load_model\n",
    "from keras.optimizers import SGD \n",
    "from keras.utils import to_categorical\n",
    "from sklearn.model_selection import cross_val_score\n",
    "from sklearn.model_selection import StratifiedKFold\n",
    "from sklearn.model_selection import train_test_split\n",
    "from keras.models import model_from_json\n",
    "from keras.callbacks import Callback\n",
    "from sklearn.metrics import roc_curve, auc, roc_auc_score, precision_recall_fscore_support\n",
    "# init_notebook_mode(connected=True)\n",
    "%matplotlib inline"
   ]
  },
  {
   "cell_type": "code",
   "execution_count": 2,
   "metadata": {},
   "outputs": [],
   "source": [
    "# load data\n",
    "output_path = './Results/'\n",
    "model_path = output_path + \"Models/\"\n",
    "data_path = './Data/'\n",
    "allClinical = pd.read_excel(data_path + \"allClinical.xlsx\",index_col=0)\n",
    "segment = pd.read_excel(data_path + \"allSegment.xlsx\",index_col=0)\n",
    "block_data = pd.read_excel(data_path + \"allBlockData.xlsx\",index_col=0)"
   ]
  },
  {
   "cell_type": "code",
   "execution_count": 3,
   "metadata": {},
   "outputs": [],
   "source": [
    "# load training data\n",
    "data = block_data.sample(frac=1,random_state=11)\n",
    "study_frame,test_frame, c,d = train_test_split(data.ix[:,:-1],data.ix[:,-1],stratify=data.ix[:,'IsMS'], test_size=0.2, random_state=9)\n",
    "block_study = data[data.ID.isin(study_frame.ID.tolist())]"
   ]
  },
  {
   "cell_type": "code",
   "execution_count": 4,
   "metadata": {},
   "outputs": [],
   "source": [
    "block_study.ix[:,1:-8] = (block_study.ix[:,1:-8] - block_study.ix[:,1:-8].mean())/block_study.ix[:,1:-8].std()\n",
    "block_study.reset_index(drop=True, inplace=True)"
   ]
  },
  {
   "cell_type": "code",
   "execution_count": 3,
   "metadata": {},
   "outputs": [],
   "source": [
    "# top ten radiomics features + gender\n",
    "op = ['GLCM_Imc2', 'GLRLM_RunLengthNonUniformity', 'GLSZM_GrayLevelNonUniformity',\n",
    "       'GLSZM_GrayLevelVariance', 'WAVELET_LLL_glcm_Idm', 'WAVELET_LLL_glcm_Id','WAVELET_LLH_glcm_Idm', 'WAVELET_LLH_glcm_Id',\n",
    "       'WAVELET_LLH_glrlm_RunLengthNonUniformity', 'WAVELET_HHH_glrlm_RunEntropy',  'Gender']"
   ]
  },
  {
   "cell_type": "code",
   "execution_count": 26,
   "metadata": {},
   "outputs": [],
   "source": []
  },
  {
   "cell_type": "code",
   "execution_count": 6,
   "metadata": {},
   "outputs": [],
   "source": [
    "# the neural network model\n",
    "from keras.layers import GaussianNoise, GaussianDropout\n",
    "from keras.optimizers import RMSprop,Adam\n",
    "from keras.regularizers import l1,l2\n",
    "\n",
    "def NeuralModel(input_dim):\n",
    "    model = Sequential()\n",
    "    model.add(Dense(1024, input_dim=input_dim, activation='relu', kernel_initializer='he_normal', kernel_regularizer=l2(0.05),name=\"DenseLayer_1024\"))\n",
    "    model.add(GaussianNoise(0.02,name=\"GaussianNoise_0.02\"))\n",
    "\n",
    "    model.add(Dense(512,  activation='relu',kernel_initializer='he_normal',kernel_regularizer=l2(0.03),name=\"DenseLayer_512\"))\n",
    "    model.add(GaussianDropout(0.05, name=\"GaussianDropout_0.05\"))   \n",
    "\n",
    "    model.add(Dense(256,  activation='relu',kernel_initializer='he_normal',kernel_regularizer=l2(0.03),name=\"DenseLayer_256\"))\n",
    "    \n",
    "    model.add(Dense(128,  activation='relu',kernel_initializer='he_normal',kernel_regularizer=l2(0.03),name=\"DenseLayer_128\"))\n",
    "\n",
    "    model.add(Dense(64,  activation='relu',kernel_initializer='he_normal',kernel_regularizer=l2(0.03),name=\"DenseLayer_64\"))\n",
    "    model.add(GaussianNoise(0.01,name=\"GaussianNoise_0.01\"))\n",
    "\n",
    "    model.add(Dense(2,activation='softmax',kernel_initializer='he_normal',kernel_regularizer=l2(0.03),name='Output'))\n",
    "\n",
    "    model.compile(optimizer=SGD(lr=0.001, momentum=0.9, decay=0.00001),loss='categorical_crossentropy',metrics=['accuracy'])\n",
    "\n",
    "    return model"
   ]
  },
  {
   "cell_type": "code",
   "execution_count": 7,
   "metadata": {},
   "outputs": [],
   "source": [
    "# save the structure of the neural network\n",
    "model_json = NeuralModel(len(op)).to_json()\n",
    "with open(model_path +\"model_block.json\", \"w\") as json_file:\n",
    "     json_file.write(model_json)"
   ]
  },
  {
   "cell_type": "code",
   "execution_count": null,
   "metadata": {},
   "outputs": [],
   "source": [
    "# train and save the model under cross-validation\n",
    "from keras.layers import GaussianNoise, GaussianDropout\n",
    "from keras.models import model_from_json\n",
    "from keras.callbacks import ModelCheckpoint, ReduceLROnPlateau\n",
    "ftypes = ['IsMS'] #,'IsCO','IsVO','IsCTVO','IsIR']\n",
    "  \n",
    "for ftype in ftypes:  \n",
    "    print(ftype)\n",
    "    mcp_save = ModelCheckpoint(model_path + ftype[2:]+ '_block_model.h5', save_best_only=True, monitor='val_loss', mode='min', verbose=0)\n",
    "    cv = StratifiedKFold(n_splits=10,  shuffle=True, random_state=9)\n",
    "  \n",
    "    index = 0\n",
    "    for tr, te in cv.split(block_study.ix[:,:], block_study.ix[:,-1]):  \n",
    "        reduce_lr = ReduceLROnPlateau(monitor='val_loss', factor=0.9, patience=5, verbose=0, epsilon=1e-4, mode='min')\n",
    "\n",
    "        x_train, x_test, y_train, y_test = block_study.ix[tr,op], block_study.ix[te,op],block_study.ix[:,ftype][tr], block_study.ix[:,ftype][te]\n",
    "        x_train.reset_index(drop=True, inplace=True)\n",
    "        x_test.reset_index(drop=True, inplace=True)\n",
    "        y_train.reset_index(drop=True, inplace=True)\n",
    "        y_test.reset_index(drop=True, inplace=True)\n",
    "\n",
    "        model = NeuralModel(len(op))\n",
    "\n",
    "        history = model.fit(x_train, to_categorical(y_train),  validation_data=(x_test, to_categorical(y_test)),epochs=50, batch_size=128, verbose=0, callbacks=[mcp_save])  \n",
    "        pred = model.predict(x_test)\n",
    "        print(accuracy_score(np.argmax(pred,axis=1), y_test))\n",
    "        index += 1"
   ]
  },
  {
   "cell_type": "code",
   "execution_count": null,
   "metadata": {},
   "outputs": [],
   "source": []
  }
 ],
 "metadata": {
  "kernelspec": {
   "display_name": "Python 3",
   "language": "python",
   "name": "python3"
  },
  "language_info": {
   "codemirror_mode": {
    "name": "ipython",
    "version": 3
   },
   "file_extension": ".py",
   "mimetype": "text/x-python",
   "name": "python",
   "nbconvert_exporter": "python",
   "pygments_lexer": "ipython3",
   "version": "3.8.5"
  }
 },
 "nbformat": 4,
 "nbformat_minor": 4
}
