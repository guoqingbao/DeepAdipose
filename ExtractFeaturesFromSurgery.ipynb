{
 "cells": [
  {
   "cell_type": "code",
   "execution_count": 1,
   "metadata": {},
   "outputs": [],
   "source": [
    "from __future__ import print_function\n",
    "import os, time\n",
    "import collections\n",
    "import platform\n",
    "import csv\n",
    "import SimpleITK as sitk\n",
    "import six\n",
    "\n",
    "from radiomics import firstorder, glcm, imageoperations, shape, glrlm, glszm, featureextractor\n",
    "import numpy as np \n",
    "# import matplotlib.pyplot as plt \n",
    "import imp\n",
    "import datetime\n",
    "import pandas as pd\n",
    "import gc\n",
    "gc.enable()"
   ]
  },
  {
   "cell_type": "code",
   "execution_count": 2,
   "metadata": {},
   "outputs": [],
   "source": [
    "# !pip install radiomics"
   ]
  },
  {
   "cell_type": "code",
   "execution_count": 3,
   "metadata": {},
   "outputs": [
    {
     "data": {
      "text/plain": [
       "'v3.0.1'"
      ]
     },
     "execution_count": 3,
     "metadata": {},
     "output_type": "execute_result"
    }
   ],
   "source": [
    "import radiomics\n",
    "radiomics.__version__"
   ]
  },
  {
   "cell_type": "code",
   "execution_count": 4,
   "metadata": {},
   "outputs": [],
   "source": [
    "# data_path = \"./data/\"\n",
    "# tif_path = mask_path =  './data/tiff_sgs/'\n",
    "# output_path = './data/block_sgs/'\n",
    "# frame = pd.read_csv(data_path + 'sgs_segment_results.csv') # segmentation results of SGS surgery\n",
    "\n",
    "data_path = './OutputTiff/'\n",
    "tif_path = mask_path = data_path\n",
    "output_path = data_path \n",
    "frame = pd.read_csv(data_path + 'results.csv')"
   ]
  },
  {
   "cell_type": "code",
   "execution_count": 6,
   "metadata": {},
   "outputs": [],
   "source": [
    "ids = [item for item in list(frame.ID)]"
   ]
  },
  {
   "cell_type": "code",
   "execution_count": 7,
   "metadata": {},
   "outputs": [],
   "source": [
    "# same features as in Volkswagen cohort\n",
    "innerHeader = pd.read_excel(data_path + \"allHeaders.xlsx\")\n",
    "header = innerHeader.columns.tolist()[:-9]"
   ]
  },
  {
   "cell_type": "code",
   "execution_count": null,
   "metadata": {},
   "outputs": [],
   "source": []
  },
  {
   "cell_type": "code",
   "execution_count": 17,
   "metadata": {},
   "outputs": [
    {
     "name": "stdout",
     "output_type": "stream",
     "text": [
      "\r\n",
      "*******************************************************\n",
      "\n",
      "Case 55a\n"
     ]
    },
    {
     "name": "stderr",
     "output_type": "stream",
     "text": [
      "GLCM is symmetrical, therefore Sum Average = 2 * Joint Average, only 1 needs to be calculated\n"
     ]
    },
    {
     "name": "stdout",
     "output_type": "stream",
     "text": [
      "Write\n",
      "\n",
      "*******************************************************\n",
      "\n",
      "Case 55b\n"
     ]
    },
    {
     "name": "stderr",
     "output_type": "stream",
     "text": [
      "GLCM is symmetrical, therefore Sum Average = 2 * Joint Average, only 1 needs to be calculated\n"
     ]
    },
    {
     "name": "stdout",
     "output_type": "stream",
     "text": [
      "Write\n",
      "\n",
      "*******************************************************\n",
      "\n",
      "Case 56a\n"
     ]
    },
    {
     "name": "stderr",
     "output_type": "stream",
     "text": [
      "GLCM is symmetrical, therefore Sum Average = 2 * Joint Average, only 1 needs to be calculated\n"
     ]
    },
    {
     "name": "stdout",
     "output_type": "stream",
     "text": [
      "Write\n",
      "\n",
      "*******************************************************\n",
      "\n",
      "Case 56b\n"
     ]
    },
    {
     "name": "stderr",
     "output_type": "stream",
     "text": [
      "GLCM is symmetrical, therefore Sum Average = 2 * Joint Average, only 1 needs to be calculated\n"
     ]
    },
    {
     "name": "stdout",
     "output_type": "stream",
     "text": [
      "Write\n",
      "\n",
      "*******************************************************\n",
      "\n",
      "Case 57a\n"
     ]
    },
    {
     "name": "stderr",
     "output_type": "stream",
     "text": [
      "GLCM is symmetrical, therefore Sum Average = 2 * Joint Average, only 1 needs to be calculated\n"
     ]
    },
    {
     "name": "stdout",
     "output_type": "stream",
     "text": [
      "Write\n",
      "\n",
      "*******************************************************\n",
      "\n",
      "Case 57b\n"
     ]
    },
    {
     "name": "stderr",
     "output_type": "stream",
     "text": [
      "GLCM is symmetrical, therefore Sum Average = 2 * Joint Average, only 1 needs to be calculated\n"
     ]
    },
    {
     "name": "stdout",
     "output_type": "stream",
     "text": [
      "Write\n",
      "\n",
      "*******************************************************\n",
      "\n",
      "Case 58a\n"
     ]
    },
    {
     "name": "stderr",
     "output_type": "stream",
     "text": [
      "GLCM is symmetrical, therefore Sum Average = 2 * Joint Average, only 1 needs to be calculated\n"
     ]
    },
    {
     "name": "stdout",
     "output_type": "stream",
     "text": [
      "Write\n",
      "\n",
      "*******************************************************\n",
      "\n",
      "Case 58b\n"
     ]
    },
    {
     "name": "stderr",
     "output_type": "stream",
     "text": [
      "GLCM is symmetrical, therefore Sum Average = 2 * Joint Average, only 1 needs to be calculated\n"
     ]
    },
    {
     "name": "stdout",
     "output_type": "stream",
     "text": [
      "Write\n",
      "\n",
      "*******************************************************\n",
      "\n",
      "Case 59a\n"
     ]
    },
    {
     "name": "stderr",
     "output_type": "stream",
     "text": [
      "GLCM is symmetrical, therefore Sum Average = 2 * Joint Average, only 1 needs to be calculated\n"
     ]
    },
    {
     "name": "stdout",
     "output_type": "stream",
     "text": [
      "Write\n",
      "\n",
      "*******************************************************\n",
      "\n",
      "Case 59b\n"
     ]
    },
    {
     "name": "stderr",
     "output_type": "stream",
     "text": [
      "GLCM is symmetrical, therefore Sum Average = 2 * Joint Average, only 1 needs to be calculated\n"
     ]
    },
    {
     "name": "stdout",
     "output_type": "stream",
     "text": [
      "Write\n",
      "\n",
      "*******************************************************\n",
      "\n",
      "Case 61a\n"
     ]
    },
    {
     "name": "stderr",
     "output_type": "stream",
     "text": [
      "GLCM is symmetrical, therefore Sum Average = 2 * Joint Average, only 1 needs to be calculated\n"
     ]
    },
    {
     "name": "stdout",
     "output_type": "stream",
     "text": [
      "Write\n",
      "\n",
      "*******************************************************\n",
      "\n",
      "Case 61b\n"
     ]
    },
    {
     "name": "stderr",
     "output_type": "stream",
     "text": [
      "GLCM is symmetrical, therefore Sum Average = 2 * Joint Average, only 1 needs to be calculated\n"
     ]
    },
    {
     "name": "stdout",
     "output_type": "stream",
     "text": [
      "Write\n",
      "\n",
      "*******************************************************\n",
      "\n",
      "Case 62a\n"
     ]
    },
    {
     "name": "stderr",
     "output_type": "stream",
     "text": [
      "GLCM is symmetrical, therefore Sum Average = 2 * Joint Average, only 1 needs to be calculated\n"
     ]
    },
    {
     "name": "stdout",
     "output_type": "stream",
     "text": [
      "Write\n",
      "\n",
      "*******************************************************\n",
      "\n",
      "Case 62b\n"
     ]
    },
    {
     "name": "stderr",
     "output_type": "stream",
     "text": [
      "GLCM is symmetrical, therefore Sum Average = 2 * Joint Average, only 1 needs to be calculated\n"
     ]
    },
    {
     "name": "stdout",
     "output_type": "stream",
     "text": [
      "Write\n",
      "\n",
      "*******************************************************\n",
      "\n",
      "Case 63a\n"
     ]
    },
    {
     "name": "stderr",
     "output_type": "stream",
     "text": [
      "GLCM is symmetrical, therefore Sum Average = 2 * Joint Average, only 1 needs to be calculated\n"
     ]
    },
    {
     "name": "stdout",
     "output_type": "stream",
     "text": [
      "Write\n",
      "\n",
      "*******************************************************\n",
      "\n",
      "Case 63b\n"
     ]
    },
    {
     "name": "stderr",
     "output_type": "stream",
     "text": [
      "GLCM is symmetrical, therefore Sum Average = 2 * Joint Average, only 1 needs to be calculated\n"
     ]
    },
    {
     "name": "stdout",
     "output_type": "stream",
     "text": [
      "Write\n",
      "\n",
      "*******************************************************\n",
      "\n",
      "Case 64a\n"
     ]
    },
    {
     "name": "stderr",
     "output_type": "stream",
     "text": [
      "GLCM is symmetrical, therefore Sum Average = 2 * Joint Average, only 1 needs to be calculated\n"
     ]
    },
    {
     "name": "stdout",
     "output_type": "stream",
     "text": [
      "Write\n",
      "\n",
      "*******************************************************\n",
      "\n",
      "Case 64b\n"
     ]
    },
    {
     "name": "stderr",
     "output_type": "stream",
     "text": [
      "GLCM is symmetrical, therefore Sum Average = 2 * Joint Average, only 1 needs to be calculated\n"
     ]
    },
    {
     "name": "stdout",
     "output_type": "stream",
     "text": [
      "Write\n",
      "\n",
      "*******************************************************\n",
      "\n",
      "Case 65a\n"
     ]
    },
    {
     "name": "stderr",
     "output_type": "stream",
     "text": [
      "GLCM is symmetrical, therefore Sum Average = 2 * Joint Average, only 1 needs to be calculated\n"
     ]
    },
    {
     "name": "stdout",
     "output_type": "stream",
     "text": [
      "Write\n",
      "\n",
      "*******************************************************\n",
      "\n",
      "Case 65b\n"
     ]
    },
    {
     "name": "stderr",
     "output_type": "stream",
     "text": [
      "GLCM is symmetrical, therefore Sum Average = 2 * Joint Average, only 1 needs to be calculated\n"
     ]
    },
    {
     "name": "stdout",
     "output_type": "stream",
     "text": [
      "Write\n",
      "\n",
      "*******************************************************\n",
      "\n",
      "Case 66a\n"
     ]
    },
    {
     "name": "stderr",
     "output_type": "stream",
     "text": [
      "GLCM is symmetrical, therefore Sum Average = 2 * Joint Average, only 1 needs to be calculated\n"
     ]
    },
    {
     "name": "stdout",
     "output_type": "stream",
     "text": [
      "Write\n",
      "\n",
      "*******************************************************\n",
      "\n",
      "Case 66b\n"
     ]
    },
    {
     "name": "stderr",
     "output_type": "stream",
     "text": [
      "GLCM is symmetrical, therefore Sum Average = 2 * Joint Average, only 1 needs to be calculated\n"
     ]
    },
    {
     "name": "stdout",
     "output_type": "stream",
     "text": [
      "Write\n",
      "\n",
      "*******************************************************\n",
      "\n",
      "Case 67a\n"
     ]
    },
    {
     "name": "stderr",
     "output_type": "stream",
     "text": [
      "GLCM is symmetrical, therefore Sum Average = 2 * Joint Average, only 1 needs to be calculated\n"
     ]
    },
    {
     "name": "stdout",
     "output_type": "stream",
     "text": [
      "Write\n",
      "\n",
      "*******************************************************\n",
      "\n",
      "Case 67b\n"
     ]
    },
    {
     "name": "stderr",
     "output_type": "stream",
     "text": [
      "GLCM is symmetrical, therefore Sum Average = 2 * Joint Average, only 1 needs to be calculated\n"
     ]
    },
    {
     "name": "stdout",
     "output_type": "stream",
     "text": [
      "Write\n",
      "\n",
      "*******************************************************\n",
      "\n",
      "Case 68a\n"
     ]
    },
    {
     "name": "stderr",
     "output_type": "stream",
     "text": [
      "GLCM is symmetrical, therefore Sum Average = 2 * Joint Average, only 1 needs to be calculated\n"
     ]
    },
    {
     "name": "stdout",
     "output_type": "stream",
     "text": [
      "Write\n",
      "\n",
      "*******************************************************\n",
      "\n",
      "Case 68b\n"
     ]
    },
    {
     "name": "stderr",
     "output_type": "stream",
     "text": [
      "GLCM is symmetrical, therefore Sum Average = 2 * Joint Average, only 1 needs to be calculated\n"
     ]
    },
    {
     "name": "stdout",
     "output_type": "stream",
     "text": [
      "Write\n"
     ]
    }
   ],
   "source": [
    "# extract texture features from each SGS CT studies (include preoperative and postoperative studies)\n",
    "FEATURE_TYPES = {1:\"shape\", 2:\"firstorder\", 3:\"glcm\", 4:\"glrlm\", 5:\"glszm\", 6:\"wavelet-glcm\", 7:\"wavelet-glrlm\"}\n",
    "import random\n",
    "\n",
    "IS_OUTER_FAT = False\n",
    "\n",
    "TASK_LIST = [2,3,4,5,6,7]\n",
    "\n",
    "POSITION = 5\n",
    "first = True\n",
    "FINISHED_ID = \"\"\n",
    "\n",
    "try:\n",
    "    with open(output_path + \"blocks.txt\", 'r') as sf:\n",
    "        FINISHED_ID = sf.readline()\n",
    "        print(FINISHED_ID)\n",
    "        if FINISHED_ID != \"\":\n",
    "            first = False;\n",
    "except:\n",
    "    pass\n",
    "\n",
    "Found = False\n",
    "positions = []\n",
    "\n",
    "if IS_OUTER_FAT:\n",
    "    CSV_FILE = \"block_outer.csv\"\n",
    "else:\n",
    "    CSV_FILE = \"block_inner.csv\"\n",
    "    \n",
    "for index, row in frame.iterrows():\n",
    "    \n",
    "    if FINISHED_ID!=\"\" and Found==False and str(row[\"ID\"]) != FINISHED_ID:\n",
    "        continue\n",
    "    elif str(row[\"ID\"]) == FINISHED_ID:\n",
    "        Found = True\n",
    "        print(\"Continue from {}\".format(row[\"ID\"]))\n",
    "        continue\n",
    "        \n",
    "    file = output_path+str(row[\"ID\"])+\".tif\"\n",
    "    if os.path.exists(file): \n",
    "        mask_file = mask_path+str(row[\"ID\"])+\"_mask.nrrd\"\n",
    "        if not os.path.exists(mask_file):\n",
    "            print(\"mask file not found: \"+ mask_file) \n",
    "            continue\n",
    "    else:\n",
    "        print(\"file not found: \"+ file)\n",
    "        continue\n",
    "        \n",
    "    image_block = sitk.ReadImage(file)    \n",
    "    mask = sitk.ReadImage(mask_file)\n",
    "    mask_s = sitk.GetArrayFromImage(mask)\n",
    "    if IS_OUTER_FAT:\n",
    "        mask_s[mask_s!=2] = 0\n",
    "        mask_s[mask_s==2] = 1\n",
    "    else:\n",
    "        mask_s[mask_s!=5] = 0\n",
    "        mask_s[mask_s==5] = 1\n",
    "        \n",
    "#     pos, endpos = row[\"Diaphragm Index\"],row[\"PubicSymphysis Index\"] \n",
    "    mask_block = sitk.GetImageFromArray(mask_s)\n",
    "    del mask\n",
    "    del mask_s\n",
    "    \n",
    "    print(\"\\r\\n*******************************************************\\n\")\n",
    "    print(\"Case {}\".format(row[\"ID\"]))\n",
    "\n",
    "    settings = {}\n",
    "    spacing = ['1.0','1.0','1.0']  \n",
    "    settings['binWidth'] = 25\n",
    "    settings['resampledPixelSpacing'] = None  \n",
    "    settings['interpolator'] = 'sitkBSpline'\n",
    "    settings['verbose'] = True\n",
    "     \n",
    "    values = {'ID':row[\"ID\"]}\n",
    "    for FEATURE_ID in TASK_LIST:\n",
    "#         print(\"Start analyze feature: {}...\".format(FEATURE_TYPES[FEATURE_ID]))\n",
    "        if FEATURE_ID == 6:\n",
    "            paramPath = output_path + 'Params-glcm.yaml'\n",
    "        else:\n",
    "            paramPath = output_path + 'Params-glrlm.yaml'\n",
    "\n",
    "        selected_feature = None\n",
    "        if FEATURE_TYPES[FEATURE_ID] == \"firstorder\":\n",
    "            extractor = firstorder.RadiomicsFirstOrder(image_block, mask_block, **settings)\n",
    "        elif FEATURE_TYPES[FEATURE_ID] == \"glcm\":\n",
    "            extractor = glcm.RadiomicsGLCM(image_block, mask_block, **settings)\n",
    "        elif FEATURE_TYPES[FEATURE_ID] == \"glrlm\":\n",
    "            extractor = glrlm.RadiomicsGLRLM(image_block, mask_block, **settings)\n",
    "        elif FEATURE_TYPES[FEATURE_ID] == \"glszm\":\n",
    "            extractor = glszm.RadiomicsGLSZM(image_block, mask_block, **settings)\n",
    "        elif FEATURE_TYPES[FEATURE_ID] == \"wavelet-glcm\" or FEATURE_TYPES[FEATURE_ID] == \"wavelet-glrlm\":\n",
    "            extractor = featureextractor.RadiomicsFeatureExtractor(paramPath) \n",
    "        else:\n",
    "            raise Exception(\"Invalid feature selected!\")\n",
    "            \n",
    "\n",
    "#         print('Calculating feature {} '.format(FEATURE_TYPES[FEATURE_ID]))\n",
    "\n",
    "        featureValues= {}\n",
    "        if FEATURE_ID == 6 or FEATURE_ID == 7:\n",
    "            featureValues = extractor.execute(image_block,mask_block)   \n",
    "        elif extractor != None:\n",
    "            extractor.enableAllFeatures()\n",
    "            extractor.execute()\n",
    "            featureValues = extractor.featureValues\n",
    "        else:\n",
    "             raise Exception(\"Invalid feature configuration!\")\n",
    "                \n",
    "        new_values = {k.replace('wavelet-',''):v for k, v in featureValues.items() if not k.startswith('general_')} \n",
    "\n",
    "        new_values = {k:v for k, v in new_values.items() if k.find('diagnostics_')<0} \n",
    "        \n",
    "        \n",
    "        nm = FEATURE_TYPES[FEATURE_ID].upper()\n",
    "        if FEATURE_ID == 6 or FEATURE_ID == 7:\n",
    "            nm = 'WAVELET'\n",
    "        new_values = { nm+ '_' +k:v for k, v in new_values.items()} \n",
    "        values.update(new_values)\n",
    "\n",
    "    del values['GLCM_MCC']\n",
    "#         print('Calculated feature {} '.format(FEATURE_TYPES[FEATURE_ID]))\n",
    "#         for (key, val) in six.iteritems(featureValues):\n",
    "#             print('  ', key, ':', val)\n",
    "\n",
    "    with open(output_path + CSV_FILE, 'a', newline='') as f:\n",
    "#         print('Write')\n",
    "        writer = csv.DictWriter(f, fieldnames=header)\n",
    "        if first:\n",
    "            writer.writeheader()\n",
    "        writer.writerow(values)\n",
    "        f.flush()\n",
    "        first = False\n",
    "            \n",
    "    del image_block\n",
    "    del mask_block\n",
    "    del extractor\n",
    "    gc.collect()\n",
    "\n",
    "    with open(output_path + \"blocks.txt\", 'w+') as f:\n",
    "        f.write(str(row[\"ID\"]))\n",
    "        f.flush()"
   ]
  }
 ],
 "metadata": {
  "kernelspec": {
   "display_name": "Python 3",
   "language": "python",
   "name": "python3"
  },
  "language_info": {
   "codemirror_mode": {
    "name": "ipython",
    "version": 3
   },
   "file_extension": ".py",
   "mimetype": "text/x-python",
   "name": "python",
   "nbconvert_exporter": "python",
   "pygments_lexer": "ipython3",
   "version": "3.8.5"
  }
 },
 "nbformat": 4,
 "nbformat_minor": 2
}
