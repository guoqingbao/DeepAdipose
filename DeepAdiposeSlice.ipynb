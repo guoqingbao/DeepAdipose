{
 "cells": [
  {
   "cell_type": "code",
   "execution_count": 4,
   "metadata": {},
   "outputs": [],
   "source": [
    "import os, time\n",
    "import collections\n",
    "import platform\n",
    "import numpy as np \n",
    "import matplotlib.pyplot as plt \n",
    "import keras\n",
    "import warnings;\n",
    "warnings.filterwarnings('ignore');\n",
    "import pandas as pd\n",
    "import tensorflow as tf\n",
    "from keras.layers import Dense, Dropout, Input\n",
    "from sklearn.metrics import confusion_matrix, accuracy_score\n",
    "from matplotlib.pyplot import cm\n",
    "from keras.models import Model\n",
    "from keras.models import Sequential, load_model\n",
    "from keras.optimizers import SGD \n",
    "from keras.utils import to_categorical\n",
    "from sklearn.model_selection import cross_val_score\n",
    "from sklearn.model_selection import StratifiedKFold\n",
    "from sklearn.model_selection import train_test_split\n",
    "from keras.models import model_from_json\n",
    "from keras.callbacks import Callback\n",
    "from sklearn.metrics import roc_curve, auc, roc_auc_score, precision_recall_fscore_support\n",
    "# init_notebook_mode(connected=True)\n",
    "%matplotlib inline"
   ]
  },
  {
   "cell_type": "code",
   "execution_count": 5,
   "metadata": {},
   "outputs": [],
   "source": [
    "output_path = './Results/'\n",
    "model_path = output_path + \"Models/\"\n",
    "data_path = './Data/'"
   ]
  },
  {
   "cell_type": "code",
   "execution_count": 6,
   "metadata": {},
   "outputs": [],
   "source": [
    "# load training data\n",
    "allSlicedata = pd.read_excel(data_path + 'allSliceData.xlsx',index_col=0)\n",
    "allClinical = pd.read_excel(data_path + \"allClinical.xlsx\",index_col=0)\n",
    "allSegment = pd.read_excel(data_path + \"allSegment.xlsx\",index_col=0)"
   ]
  },
  {
   "cell_type": "code",
   "execution_count": 8,
   "metadata": {},
   "outputs": [],
   "source": [
    "block_data = pd.read_excel(data_path + \"allBlockData.xlsx\",index_col=0)\n",
    "data = block_data.sample(frac=1,random_state=11)\n",
    "study_frame,test_frame, c,d = train_test_split(data.ix[:,:-1],data.ix[:,-1],stratify=data.ix[:,'IsMS'], test_size=0.2, random_state=9)\n",
    "slice_study = allSlicedata[allSlicedata.ID.isin(study_frame.ID.tolist())]\n",
    "slice_study.ix[:,1:-8] = (slice_study.ix[:,1:-8] - slice_study.ix[:,1:-8].mean())/slice_study.ix[:,1:-8].std()\n",
    "slice_study.reset_index(drop=True,inplace=True)"
   ]
  },
  {
   "cell_type": "code",
   "execution_count": null,
   "metadata": {},
   "outputs": [],
   "source": [
    "# top ten radiomics features + gender\n",
    "op = ['GLCM_Imc2', 'GLRLM_RunLengthNonUniformity', 'GLSZM_GrayLevelNonUniformity',\n",
    "       'GLSZM_GrayLevelVariance', 'WAVELET_LLL_glcm_Idm', 'WAVELET_LLL_glcm_Id','WAVELET_LLH_glcm_Idm', 'WAVELET_LLH_glcm_Id',\n",
    "       'WAVELET_LLH_glrlm_RunLengthNonUniformity', 'WAVELET_HHH_glrlm_RunEntropy', 'Gender']"
   ]
  },
  {
   "cell_type": "code",
   "execution_count": 9,
   "metadata": {},
   "outputs": [],
   "source": [
    "# the neural network model (same as used in block)\n",
    "from keras.layers import GaussianNoise, GaussianDropout\n",
    "from keras.optimizers import RMSprop,Adam\n",
    "from keras.regularizers import l2\n",
    "def NeuralModel(input_dim):\n",
    "    model = Sequential()\n",
    "    model.add(Dense(1024, input_dim= input_dim, activation='relu', kernel_initializer='he_normal', kernel_regularizer=l2(0.05), name=\"DenseLayer_1024\"))\n",
    "    model.add(GaussianNoise(0.02,name=\"GaussianNoise_0.02\"))\n",
    "\n",
    "    model.add(Dense(512,  activation='relu', kernel_initializer='he_normal',kernel_regularizer=l2(0.03), name=\"DenseLayer_512\"))\n",
    "    model.add(GaussianDropout(0.05, name=\"GaussianDropout_0.05\"))   \n",
    "\n",
    "    model.add(Dense(256,  activation='relu', kernel_initializer='he_normal',kernel_regularizer=l2(0.03), name=\"DenseLayer_256\"))\n",
    "    \n",
    "    model.add(Dense(128,  activation='relu', kernel_initializer='he_normal',kernel_regularizer=l2(0.03), name=\"DenseLayer_128\"))\n",
    "\n",
    "    model.add(Dense(64,  activation='relu', kernel_initializer='he_normal',kernel_regularizer=l2(0.03), name=\"DenseLayer_64\"))\n",
    "    model.add(GaussianNoise(0.01,name=\"GaussianNoise_0.01\"))\n",
    "\n",
    "    model.add(Dense(2,activation='softmax', kernel_initializer='he_normal',kernel_regularizer=l2(0.03), name='Output'))\n",
    "\n",
    "    model.compile(optimizer=SGD(lr=0.001, momentum=0.9, decay=0.00001),loss='categorical_crossentropy',metrics=['accuracy'])\n",
    "\n",
    "    return model"
   ]
  },
  {
   "cell_type": "code",
   "execution_count": 10,
   "metadata": {},
   "outputs": [],
   "source": [
    "model_json = NeuralModel(len(op)).to_json()\n",
    "with open(model_path +\"model_slice.json\", \"w\") as json_file:\n",
    "     json_file.write(model_json)"
   ]
  },
  {
   "cell_type": "code",
   "execution_count": 11,
   "metadata": {},
   "outputs": [],
   "source": [
    "slice_study_shuffle = slice_study.sample(frac=1,random_state=9)\n",
    "slice_study_shuffle.reset_index(drop=True, inplace=True)"
   ]
  },
  {
   "cell_type": "code",
   "execution_count": 12,
   "metadata": {},
   "outputs": [
    {
     "name": "stdout",
     "output_type": "stream",
     "text": [
      "IsMS\n",
      "WARNING:tensorflow:Variable *= will be deprecated. Use variable.assign_mul if you want assignment to the variable value or 'x = x * y' if you want a new python Tensor object.\n",
      "0.7722222222222223\n",
      "0.7388888888888889\n",
      "0.7185185185185186\n",
      "0.737037037037037\n",
      "0.7518518518518519\n",
      "0.7537037037037037\n",
      "0.7296296296296296\n",
      "0.725925925925926\n",
      "0.7611111111111111\n",
      "0.7666666666666667\n",
      "IsCO\n",
      "0.8703703703703703\n",
      "0.8777777777777778\n",
      "0.9092592592592592\n",
      "0.8925925925925926\n",
      "0.8870370370370371\n",
      "0.9111111111111111\n",
      "0.8851851851851852\n",
      "0.8685185185185185\n",
      "0.9055555555555556\n",
      "0.8833333333333333\n",
      "IsVO\n",
      "0.8833333333333333\n",
      "0.8962962962962963\n",
      "0.8685185185185185\n",
      "0.8925925925925926\n",
      "0.8814814814814815\n",
      "0.8870370370370371\n",
      "0.8611111111111112\n",
      "0.8629629629629629\n",
      "0.8666666666666667\n",
      "0.8537037037037037\n",
      "IsCTVO\n",
      "0.9018518518518519\n",
      "0.9018518518518519\n",
      "0.924074074074074\n",
      "0.9074074074074074\n",
      "0.9314814814814815\n",
      "0.912962962962963\n",
      "0.9055555555555556\n",
      "0.9055555555555556\n",
      "0.9351851851851852\n",
      "0.8851851851851852\n",
      "IsIR\n",
      "0.75\n",
      "0.7222222222222222\n",
      "0.7759259259259259\n",
      "0.7981481481481482\n",
      "0.8\n",
      "0.7777777777777778\n",
      "0.7481481481481481\n",
      "0.7296296296296296\n",
      "0.7425925925925926\n",
      "0.725925925925926\n"
     ]
    }
   ],
   "source": [
    "# train and save the model under cross-validation\n",
    "\n",
    "from keras.layers import GaussianNoise, GaussianDropout\n",
    "from keras.models import model_from_json\n",
    "from keras.callbacks import ModelCheckpoint, ReduceLROnPlateau\n",
    "\n",
    "ftypes = ['IsMS','IsCO','IsVO','IsCTVO','IsIR']\n",
    "\n",
    "for ftype in ftypes:  \n",
    "    index = 0\n",
    "    mcp_save = ModelCheckpoint(model_path + ftype[2:] + '_slice_model.h5', save_best_only=True, monitor='val_loss', mode='min', verbose=0)\n",
    "    cv = StratifiedKFold(n_splits=10,  shuffle=True, random_state=9)\n",
    "    print(ftype)\n",
    "    for tr, te in cv.split(slice_study_shuffle.ix[:,op], slice_study_shuffle.ix[:,'IsMS']):  \n",
    "        x_train, x_test, y_train, y_test = slice_study_shuffle.ix[tr,op], slice_study_shuffle.ix[te,op],slice_study_shuffle.ix[:,ftype][tr], slice_study_shuffle.ix[:,ftype][te]\n",
    "        x_train.reset_index(drop=True, inplace=True)\n",
    "        x_test.reset_index(drop=True, inplace=True)\n",
    "        y_train.reset_index(drop=True, inplace=True)\n",
    "        y_test.reset_index(drop=True, inplace=True)\n",
    "\n",
    "        model = NeuralModel(len(op))\n",
    "        history = model.fit(x_train, to_categorical(y_train), validation_data=(x_test, to_categorical(y_test)), epochs=200, batch_size=128, verbose=0, callbacks=[mcp_save])  \n",
    "        pred = model.predict(x_test)\n",
    "        print(accuracy_score(np.argmax(pred,axis=1), y_test))\n",
    "        index += 1"
   ]
  }
 ],
 "metadata": {
  "kernelspec": {
   "display_name": "Python 3",
   "language": "python",
   "name": "python3"
  },
  "language_info": {
   "codemirror_mode": {
    "name": "ipython",
    "version": 3
   },
   "file_extension": ".py",
   "mimetype": "text/x-python",
   "name": "python",
   "nbconvert_exporter": "python",
   "pygments_lexer": "ipython3",
   "version": "3.8.5"
  }
 },
 "nbformat": 4,
 "nbformat_minor": 4
}
