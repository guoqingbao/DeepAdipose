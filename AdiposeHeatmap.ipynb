{
 "cells": [
  {
   "cell_type": "code",
   "execution_count": 1,
   "metadata": {},
   "outputs": [
    {
     "name": "stderr",
     "output_type": "stream",
     "text": [
      "Loading required package: grid\n",
      "========================================\n",
      "ComplexHeatmap version 1.18.1\n",
      "Bioconductor page: http://bioconductor.org/packages/ComplexHeatmap/\n",
      "Github page: https://github.com/jokergoo/ComplexHeatmap\n",
      "Documentation: http://bioconductor.org/packages/ComplexHeatmap/\n",
      "\n",
      "If you use it in published research, please cite:\n",
      "Gu, Z. Complex heatmaps reveal patterns and correlations in multidimensional \n",
      "  genomic data. Bioinformatics 2016.\n",
      "========================================\n",
      "\n",
      "========================================\n",
      "circlize version 0.4.4\n",
      "CRAN page: https://cran.r-project.org/package=circlize\n",
      "Github page: https://github.com/jokergoo/circlize\n",
      "Documentation: http://jokergoo.github.io/circlize_book/book/\n",
      "\n",
      "If you use it in published research, please cite:\n",
      "Gu, Z. circlize implements and enhances circular visualization \n",
      "  in R. Bioinformatics 2014.\n",
      "========================================\n",
      "\n",
      "\n",
      "Attaching package: 'gplots'\n",
      "\n",
      "The following object is masked from 'package:stats':\n",
      "\n",
      "    lowess\n",
      "\n"
     ]
    }
   ],
   "source": [
    "# R code to plot heatmap (top ten radiomics features)\n",
    "library(\"openxlsx\")\n",
    "library(\"stringr\")\n",
    "library(ComplexHeatmap)\n",
    "library(circlize)\n",
    "library(colorspace)\n",
    "library(GetoptLong)\n",
    "library(ggplot2)\n",
    "library(gplots)"
   ]
  },
  {
   "cell_type": "code",
   "execution_count": 2,
   "metadata": {},
   "outputs": [],
   "source": [
    "library(\"RColorBrewer\")\n",
    "# install.packages('OpasnetUtils')\n",
    "library(reticulate)"
   ]
  },
  {
   "cell_type": "code",
   "execution_count": 3,
   "metadata": {},
   "outputs": [],
   "source": [
    "data_path = \"./Data/\"\n",
    "output_path = \"./Results/\""
   ]
  },
  {
   "cell_type": "code",
   "execution_count": 9,
   "metadata": {},
   "outputs": [],
   "source": [
    "# load features, metabolic outcomes and corresponding clinical factors\n",
    "xlfeatures = read.xlsx(paste(data_path , \"all_major_block_features.xlsx\",sep = \"\"), sheet = 1, colNames = TRUE)\n",
    "\n",
    "xlfeatures = data.frame(xlfeatures)"
   ]
  },
  {
   "cell_type": "code",
   "execution_count": 8,
   "metadata": {},
   "outputs": [
    {
     "data": {
      "text/html": [
       "<ol class=list-inline>\n",
       "\t<li>'ID'</li>\n",
       "\t<li>'GLCM_Imc2'</li>\n",
       "\t<li>'GLRLM_RunLengthNonUniformity'</li>\n",
       "\t<li>'GLSZM_GrayLevelNonUniformity'</li>\n",
       "\t<li>'GLSZM_GrayLevelVariance'</li>\n",
       "\t<li>'WAVELET_LLL_glcm_Idm'</li>\n",
       "\t<li>'WAVELET_LLL_glcm_Id'</li>\n",
       "\t<li>'WAVELET_LLH_glcm_Idm'</li>\n",
       "\t<li>'WAVELET_LLH_glcm_Id'</li>\n",
       "\t<li>'WAVELET_LLH_glrlm_RunLengthNonUniformity'</li>\n",
       "\t<li>'WAVELET_HHH_glrlm_RunEntropy'</li>\n",
       "\t<li>'Age'</li>\n",
       "\t<li>'Gender'</li>\n",
       "\t<li>'VFat'</li>\n",
       "\t<li>'SFat'</li>\n",
       "\t<li>'IsMS'</li>\n",
       "\t<li>'IsCO'</li>\n",
       "\t<li>'IsVO'</li>\n",
       "\t<li>'IsCTVO'</li>\n",
       "\t<li>'IsInsulinResis'</li>\n",
       "</ol>\n"
      ],
      "text/latex": [
       "\\begin{enumerate*}\n",
       "\\item 'ID'\n",
       "\\item 'GLCM\\_Imc2'\n",
       "\\item 'GLRLM\\_RunLengthNonUniformity'\n",
       "\\item 'GLSZM\\_GrayLevelNonUniformity'\n",
       "\\item 'GLSZM\\_GrayLevelVariance'\n",
       "\\item 'WAVELET\\_LLL\\_glcm\\_Idm'\n",
       "\\item 'WAVELET\\_LLL\\_glcm\\_Id'\n",
       "\\item 'WAVELET\\_LLH\\_glcm\\_Idm'\n",
       "\\item 'WAVELET\\_LLH\\_glcm\\_Id'\n",
       "\\item 'WAVELET\\_LLH\\_glrlm\\_RunLengthNonUniformity'\n",
       "\\item 'WAVELET\\_HHH\\_glrlm\\_RunEntropy'\n",
       "\\item 'Age'\n",
       "\\item 'Gender'\n",
       "\\item 'VFat'\n",
       "\\item 'SFat'\n",
       "\\item 'IsMS'\n",
       "\\item 'IsCO'\n",
       "\\item 'IsVO'\n",
       "\\item 'IsCTVO'\n",
       "\\item 'IsInsulinResis'\n",
       "\\end{enumerate*}\n"
      ],
      "text/markdown": [
       "1. 'ID'\n",
       "2. 'GLCM_Imc2'\n",
       "3. 'GLRLM_RunLengthNonUniformity'\n",
       "4. 'GLSZM_GrayLevelNonUniformity'\n",
       "5. 'GLSZM_GrayLevelVariance'\n",
       "6. 'WAVELET_LLL_glcm_Idm'\n",
       "7. 'WAVELET_LLL_glcm_Id'\n",
       "8. 'WAVELET_LLH_glcm_Idm'\n",
       "9. 'WAVELET_LLH_glcm_Id'\n",
       "10. 'WAVELET_LLH_glrlm_RunLengthNonUniformity'\n",
       "11. 'WAVELET_HHH_glrlm_RunEntropy'\n",
       "12. 'Age'\n",
       "13. 'Gender'\n",
       "14. 'VFat'\n",
       "15. 'SFat'\n",
       "16. 'IsMS'\n",
       "17. 'IsCO'\n",
       "18. 'IsVO'\n",
       "19. 'IsCTVO'\n",
       "20. 'IsInsulinResis'\n",
       "\n",
       "\n"
      ],
      "text/plain": [
       " [1] \"ID\"                                      \n",
       " [2] \"GLCM_Imc2\"                               \n",
       " [3] \"GLRLM_RunLengthNonUniformity\"            \n",
       " [4] \"GLSZM_GrayLevelNonUniformity\"            \n",
       " [5] \"GLSZM_GrayLevelVariance\"                 \n",
       " [6] \"WAVELET_LLL_glcm_Idm\"                    \n",
       " [7] \"WAVELET_LLL_glcm_Id\"                     \n",
       " [8] \"WAVELET_LLH_glcm_Idm\"                    \n",
       " [9] \"WAVELET_LLH_glcm_Id\"                     \n",
       "[10] \"WAVELET_LLH_glrlm_RunLengthNonUniformity\"\n",
       "[11] \"WAVELET_HHH_glrlm_RunEntropy\"            \n",
       "[12] \"Age\"                                     \n",
       "[13] \"Gender\"                                  \n",
       "[14] \"VFat\"                                    \n",
       "[15] \"SFat\"                                    \n",
       "[16] \"IsMS\"                                    \n",
       "[17] \"IsCO\"                                    \n",
       "[18] \"IsVO\"                                    \n",
       "[19] \"IsCTVO\"                                  \n",
       "[20] \"IsInsulinResis\"                          "
      ]
     },
     "metadata": {},
     "output_type": "display_data"
    }
   ],
   "source": [
    "colnames(xlfeatures)"
   ]
  },
  {
   "cell_type": "code",
   "execution_count": 5,
   "metadata": {},
   "outputs": [
    {
     "data": {
      "text/html": [
       "<ol class=list-inline>\n",
       "\t<li>'X1'</li>\n",
       "\t<li>'GLCM_Imc2'</li>\n",
       "\t<li>'GLRLM_RunLengthNonUniformity'</li>\n",
       "\t<li>'GLSZM_GrayLevelNonUniformity'</li>\n",
       "\t<li>'GLSZM_GrayLevelVariance'</li>\n",
       "\t<li>'WAVELET_LLL_glcm_Idm'</li>\n",
       "\t<li>'WAVELET_LLL_glcm_Id'</li>\n",
       "\t<li>'WAVELET_LLH_glcm_Idm'</li>\n",
       "\t<li>'WAVELET_LLH_glcm_Id'</li>\n",
       "\t<li>'WAVELET_LLH_glrlm_RunLengthNonUniformity'</li>\n",
       "\t<li>'WAVELET_HHH_glrlm_RunEntropy'</li>\n",
       "\t<li>'Age'</li>\n",
       "\t<li>'Gender'</li>\n",
       "\t<li>'VFat'</li>\n",
       "\t<li>'SFat'</li>\n",
       "\t<li>'IsMS'</li>\n",
       "\t<li>'IsCO'</li>\n",
       "\t<li>'IsVO'</li>\n",
       "\t<li>'IsIR'</li>\n",
       "\t<li>'IsCTVO'</li>\n",
       "</ol>\n"
      ],
      "text/latex": [
       "\\begin{enumerate*}\n",
       "\\item 'X1'\n",
       "\\item 'GLCM\\_Imc2'\n",
       "\\item 'GLRLM\\_RunLengthNonUniformity'\n",
       "\\item 'GLSZM\\_GrayLevelNonUniformity'\n",
       "\\item 'GLSZM\\_GrayLevelVariance'\n",
       "\\item 'WAVELET\\_LLL\\_glcm\\_Idm'\n",
       "\\item 'WAVELET\\_LLL\\_glcm\\_Id'\n",
       "\\item 'WAVELET\\_LLH\\_glcm\\_Idm'\n",
       "\\item 'WAVELET\\_LLH\\_glcm\\_Id'\n",
       "\\item 'WAVELET\\_LLH\\_glrlm\\_RunLengthNonUniformity'\n",
       "\\item 'WAVELET\\_HHH\\_glrlm\\_RunEntropy'\n",
       "\\item 'Age'\n",
       "\\item 'Gender'\n",
       "\\item 'VFat'\n",
       "\\item 'SFat'\n",
       "\\item 'IsMS'\n",
       "\\item 'IsCO'\n",
       "\\item 'IsVO'\n",
       "\\item 'IsIR'\n",
       "\\item 'IsCTVO'\n",
       "\\end{enumerate*}\n"
      ],
      "text/markdown": [
       "1. 'X1'\n",
       "2. 'GLCM_Imc2'\n",
       "3. 'GLRLM_RunLengthNonUniformity'\n",
       "4. 'GLSZM_GrayLevelNonUniformity'\n",
       "5. 'GLSZM_GrayLevelVariance'\n",
       "6. 'WAVELET_LLL_glcm_Idm'\n",
       "7. 'WAVELET_LLL_glcm_Id'\n",
       "8. 'WAVELET_LLH_glcm_Idm'\n",
       "9. 'WAVELET_LLH_glcm_Id'\n",
       "10. 'WAVELET_LLH_glrlm_RunLengthNonUniformity'\n",
       "11. 'WAVELET_HHH_glrlm_RunEntropy'\n",
       "12. 'Age'\n",
       "13. 'Gender'\n",
       "14. 'VFat'\n",
       "15. 'SFat'\n",
       "16. 'IsMS'\n",
       "17. 'IsCO'\n",
       "18. 'IsVO'\n",
       "19. 'IsIR'\n",
       "20. 'IsCTVO'\n",
       "\n",
       "\n"
      ],
      "text/plain": [
       " [1] \"X1\"                                      \n",
       " [2] \"GLCM_Imc2\"                               \n",
       " [3] \"GLRLM_RunLengthNonUniformity\"            \n",
       " [4] \"GLSZM_GrayLevelNonUniformity\"            \n",
       " [5] \"GLSZM_GrayLevelVariance\"                 \n",
       " [6] \"WAVELET_LLL_glcm_Idm\"                    \n",
       " [7] \"WAVELET_LLL_glcm_Id\"                     \n",
       " [8] \"WAVELET_LLH_glcm_Idm\"                    \n",
       " [9] \"WAVELET_LLH_glcm_Id\"                     \n",
       "[10] \"WAVELET_LLH_glrlm_RunLengthNonUniformity\"\n",
       "[11] \"WAVELET_HHH_glrlm_RunEntropy\"            \n",
       "[12] \"Age\"                                     \n",
       "[13] \"Gender\"                                  \n",
       "[14] \"VFat\"                                    \n",
       "[15] \"SFat\"                                    \n",
       "[16] \"IsMS\"                                    \n",
       "[17] \"IsCO\"                                    \n",
       "[18] \"IsVO\"                                    \n",
       "[19] \"IsIR\"                                    \n",
       "[20] \"IsCTVO\"                                  "
      ]
     },
     "metadata": {},
     "output_type": "display_data"
    }
   ],
   "source": [
    "colnames(xlfeatures)"
   ]
  },
  {
   "cell_type": "code",
   "execution_count": 10,
   "metadata": {},
   "outputs": [],
   "source": [
    "features = xlfeatures[,2:length(colnames(xlfeatures))]"
   ]
  },
  {
   "cell_type": "code",
   "execution_count": 11,
   "metadata": {},
   "outputs": [],
   "source": [
    "# fat volumes (ml), age\n",
    "features$VFat <- features$VFat*1000\n",
    "features$SFat <- features$SFat*1000\n",
    "features$Age <- features$Age *10"
   ]
  },
  {
   "cell_type": "code",
   "execution_count": 12,
   "metadata": {},
   "outputs": [],
   "source": [
    "imagefeatures = features[, 1:(length(colnames(features))-9)]\n",
    "imagefeatures = scale(imagefeatures)"
   ]
  },
  {
   "cell_type": "code",
   "execution_count": 13,
   "metadata": {},
   "outputs": [],
   "source": [
    "features[, 1:(length(colnames(features))-9)] = imagefeatures"
   ]
  },
  {
   "cell_type": "code",
   "execution_count": 18,
   "metadata": {},
   "outputs": [],
   "source": [
    "features = features[c(colnames(features)[1:14], 'IsCTVO', 'IsIR','IsMS')]"
   ]
  },
  {
   "cell_type": "code",
   "execution_count": 20,
   "metadata": {},
   "outputs": [
    {
     "data": {
      "text/html": [
       "<ol class=list-inline>\n",
       "\t<li>'GLCM_Imc2'</li>\n",
       "\t<li>'GLRLM_RunLengthNonUniformity'</li>\n",
       "\t<li>'GLSZM_GrayLevelNonUniformity'</li>\n",
       "\t<li>'GLSZM_GrayLevelVariance'</li>\n",
       "\t<li>'WAVELET_LLL_glcm_Idm'</li>\n",
       "\t<li>'WAVELET_LLL_glcm_Id'</li>\n",
       "\t<li>'WAVELET_LLH_glcm_Idm'</li>\n",
       "\t<li>'WAVELET_LLH_glcm_Id'</li>\n",
       "\t<li>'WAVELET_LLH_glrlm_RunLengthNonUniformity'</li>\n",
       "\t<li>'WAVELET_HHH_glrlm_RunEntropy'</li>\n",
       "\t<li>'Age'</li>\n",
       "\t<li>'Gender'</li>\n",
       "\t<li>'VFat'</li>\n",
       "\t<li>'SFat'</li>\n",
       "\t<li>'IsCTVO'</li>\n",
       "\t<li>'IsIR'</li>\n",
       "\t<li>'IsMS'</li>\n",
       "</ol>\n"
      ],
      "text/latex": [
       "\\begin{enumerate*}\n",
       "\\item 'GLCM\\_Imc2'\n",
       "\\item 'GLRLM\\_RunLengthNonUniformity'\n",
       "\\item 'GLSZM\\_GrayLevelNonUniformity'\n",
       "\\item 'GLSZM\\_GrayLevelVariance'\n",
       "\\item 'WAVELET\\_LLL\\_glcm\\_Idm'\n",
       "\\item 'WAVELET\\_LLL\\_glcm\\_Id'\n",
       "\\item 'WAVELET\\_LLH\\_glcm\\_Idm'\n",
       "\\item 'WAVELET\\_LLH\\_glcm\\_Id'\n",
       "\\item 'WAVELET\\_LLH\\_glrlm\\_RunLengthNonUniformity'\n",
       "\\item 'WAVELET\\_HHH\\_glrlm\\_RunEntropy'\n",
       "\\item 'Age'\n",
       "\\item 'Gender'\n",
       "\\item 'VFat'\n",
       "\\item 'SFat'\n",
       "\\item 'IsCTVO'\n",
       "\\item 'IsIR'\n",
       "\\item 'IsMS'\n",
       "\\end{enumerate*}\n"
      ],
      "text/markdown": [
       "1. 'GLCM_Imc2'\n",
       "2. 'GLRLM_RunLengthNonUniformity'\n",
       "3. 'GLSZM_GrayLevelNonUniformity'\n",
       "4. 'GLSZM_GrayLevelVariance'\n",
       "5. 'WAVELET_LLL_glcm_Idm'\n",
       "6. 'WAVELET_LLL_glcm_Id'\n",
       "7. 'WAVELET_LLH_glcm_Idm'\n",
       "8. 'WAVELET_LLH_glcm_Id'\n",
       "9. 'WAVELET_LLH_glrlm_RunLengthNonUniformity'\n",
       "10. 'WAVELET_HHH_glrlm_RunEntropy'\n",
       "11. 'Age'\n",
       "12. 'Gender'\n",
       "13. 'VFat'\n",
       "14. 'SFat'\n",
       "15. 'IsCTVO'\n",
       "16. 'IsIR'\n",
       "17. 'IsMS'\n",
       "\n",
       "\n"
      ],
      "text/plain": [
       " [1] \"GLCM_Imc2\"                               \n",
       " [2] \"GLRLM_RunLengthNonUniformity\"            \n",
       " [3] \"GLSZM_GrayLevelNonUniformity\"            \n",
       " [4] \"GLSZM_GrayLevelVariance\"                 \n",
       " [5] \"WAVELET_LLL_glcm_Idm\"                    \n",
       " [6] \"WAVELET_LLL_glcm_Id\"                     \n",
       " [7] \"WAVELET_LLH_glcm_Idm\"                    \n",
       " [8] \"WAVELET_LLH_glcm_Id\"                     \n",
       " [9] \"WAVELET_LLH_glrlm_RunLengthNonUniformity\"\n",
       "[10] \"WAVELET_HHH_glrlm_RunEntropy\"            \n",
       "[11] \"Age\"                                     \n",
       "[12] \"Gender\"                                  \n",
       "[13] \"VFat\"                                    \n",
       "[14] \"SFat\"                                    \n",
       "[15] \"IsCTVO\"                                  \n",
       "[16] \"IsIR\"                                    \n",
       "[17] \"IsMS\"                                    "
      ]
     },
     "metadata": {},
     "output_type": "display_data"
    }
   ],
   "source": [
    "colnames(features)"
   ]
  },
  {
   "cell_type": "code",
   "execution_count": 34,
   "metadata": {},
   "outputs": [
    {
     "data": {
      "image/png": "[encoded data removed]",
      "text/plain": [
       "plot without title"
      ]
     },
     "metadata": {},
     "output_type": "display_data"
    }
   ],
   "source": [
    "# plot heatmap\n",
    "ha1 = HeatmapAnnotation(df = features[,11:17],\n",
    "    col = list(IsCTVO = c(\"1\"=\"Orange\",\"0\"=\"blue\"), IsIR = c(\"1\"=\"purple\",\"0\"=\"darkgreen\"), IsMS = c(\"1\"=\"Brown\",\"0\"=\"green\"), Gender = c(\"1\"= \"pink\", \"0\"= \"darkgray\")\n",
    "    ),\n",
    "                       \n",
    "     annotation_legend_param = list(\n",
    "               IsCTVO = list(title = \"Visceral Obesity (CT)\", at = c(\"1\", \"0\"), labels = c(\"Yes\", \"No\")),\n",
    "               IsIR = list(title = \"Insulin Resistance\", at = c(\"1\", \"0\"), labels = c(\"Yes\", \"No\")),\n",
    "         VFat = list(title = \"Visceral Fat\"),\n",
    "         SFat = list(title = \"Subcutaneous Fat\"),\n",
    "      IsMS = list(title = \"Metabolic Syndrome\", at = c(\"1\", \"0\"), labels = c(\"Yes\", \"No\")),\n",
    "       Gender = list(title = \"Gender\", at = c(\"1\", \"0\"), labels = c(\"Female\", \"Male\"))\n",
    "      )\n",
    "   )\n",
    "\n",
    "ht = Heatmap(t(features[,1:10]), name = \"Z-Score\",row_names_gp = gpar(fontsize = 8),\n",
    "        show_row_dend = FALSE,show_column_dend = FALSE, cluster_rows = TRUE,\n",
    "        cluster_columns = TRUE, show_row_names = TRUE, show_column_names = FALSE,clustering_distance_columns = \"pearson\",\n",
    "        show_heatmap_legend = TRUE,\n",
    "       ,top_annotation=ha1)\n",
    "\n",
    "p = draw(ht, heatmap_legend_side = \"right\")\n",
    "\n",
    "decorate_annotation(\"IsIR\", {grid.text(\"Insulin Resistance\", unit(1, \"npc\") + unit(2, \"mm\"), 0.5, default.units = \"npc\", just = \"left\" , gp = gpar(fontsize = 10))})\n",
    "decorate_annotation(\"IsCTVO\", {grid.text(\"Visceral Obesity (CT)\", unit(1, \"npc\") + unit(2, \"mm\"), 0.5, default.units = \"npc\", just = \"left\" , gp = gpar(fontsize = 10))})\n",
    "decorate_annotation(\"IsMS\", {grid.text(\"Metabolic Syndrome\", unit(1, \"npc\") + unit(2, \"mm\"), 0.5, default.units = \"npc\", just = \"left\" , gp = gpar(fontsize = 10))})\n",
    "decorate_annotation(\"Age\", {grid.text(\"Age\", unit(1, \"npc\") + unit(2, \"mm\"), 0.5, default.units = \"npc\", just = \"left\" , gp = gpar(fontsize = 10))})\n",
    "decorate_annotation(\"Gender\", {grid.text(\"Gender\", unit(1, \"npc\") + unit(2, \"mm\"), 0.5, default.units = \"npc\", just = \"left\" , gp = gpar(fontsize = 10))})\n",
    "decorate_annotation(\"SFat\", {grid.text(\"Subcutaneous Fat(ml)\", unit(1, \"npc\") + unit(2, \"mm\"), 0.5, default.units = \"npc\", just = \"left\" , gp = gpar(fontsize = 10))})\n",
    "decorate_annotation(\"VFat\", {grid.text(\"Viceral Fat(ml)\", unit(1, \"npc\") + unit(2, \"mm\"), 0.5, default.units = \"npc\", just = \"left\" , gp = gpar(fontsize = 10))})\n"
   ]
  },
  {
   "cell_type": "code",
   "execution_count": 35,
   "metadata": {},
   "outputs": [
    {
     "data": {
      "text/html": [
       "<strong>png:</strong> 2"
      ],
      "text/latex": [
       "\\textbf{png:} 2"
      ],
      "text/markdown": [
       "**png:** 2"
      ],
      "text/plain": [
       "png \n",
       "  2 "
      ]
     },
     "metadata": {},
     "output_type": "display_data"
    }
   ],
   "source": [
    "\n",
    "title = paste(output_path , \"inner_block_for_heatmap.tif\",sep = \"\")\n",
    "tiff(title, width=900*3, height=500*3, units=\"px\", res=96*3, compression = \"lzw\")\n",
    "p = draw(ht, heatmap_legend_side = \"right\")\n",
    "decorate_annotation(\"IsIR\", {grid.text(\"Insulin Resistance\", unit(1, \"npc\") + unit(2, \"mm\"), 0.5, default.units = \"npc\", just = \"left\" , gp = gpar(fontsize = 10))})\n",
    "decorate_annotation(\"IsCTVO\", {grid.text(\"Visceral Obesity (CT)\", unit(1, \"npc\") + unit(2, \"mm\"), 0.5, default.units = \"npc\", just = \"left\" , gp = gpar(fontsize = 10))})\n",
    "decorate_annotation(\"IsMS\", {grid.text(\"Metabolic Syndrome\", unit(1, \"npc\") + unit(2, \"mm\"), 0.5, default.units = \"npc\", just = \"left\" , gp = gpar(fontsize = 10))})\n",
    "decorate_annotation(\"Age\", {grid.text(\"Age\", unit(1, \"npc\") + unit(2, \"mm\"), 0.5, default.units = \"npc\", just = \"left\" , gp = gpar(fontsize = 10))})\n",
    "decorate_annotation(\"Gender\", {grid.text(\"Gender\", unit(1, \"npc\") + unit(2, \"mm\"), 0.5, default.units = \"npc\", just = \"left\" , gp = gpar(fontsize = 10))})\n",
    "decorate_annotation(\"SFat\", {grid.text(\"Subcutaneous Fat(ml)\", unit(1, \"npc\") + unit(2, \"mm\"), 0.5, default.units = \"npc\", just = \"left\" , gp = gpar(fontsize = 10))})\n",
    "decorate_annotation(\"VFat\", {grid.text(\"Viceral Fat(ml)\", unit(1, \"npc\") + unit(2, \"mm\"), 0.5, default.units = \"npc\", just = \"left\" , gp = gpar(fontsize = 10))})\n",
    "\n",
    "dev.off()\n",
    "\n",
    "\n",
    "\n"
   ]
  },
  {
   "cell_type": "code",
   "execution_count": null,
   "metadata": {},
   "outputs": [],
   "source": []
  }
 ],
 "metadata": {
  "kernelspec": {
   "display_name": "R",
   "language": "R",
   "name": "ir"
  },
  "language_info": {
   "codemirror_mode": "r",
   "file_extension": ".r",
   "mimetype": "text/x-r-source",
   "name": "R",
   "pygments_lexer": "r",
   "version": "3.5.1"
  }
 },
 "nbformat": 4,
 "nbformat_minor": 2
}
