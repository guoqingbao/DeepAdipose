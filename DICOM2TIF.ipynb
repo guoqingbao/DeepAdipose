{
 "cells": [
  {
   "cell_type": "code",
   "execution_count": 1,
   "metadata": {},
   "outputs": [],
   "source": [
    "import numpy as np\n",
    "import pandas as pd\n",
    "import SimpleITK as itk # simpleitk is required"
   ]
  },
  {
   "cell_type": "code",
   "execution_count": 2,
   "metadata": {},
   "outputs": [],
   "source": [
    "import gc\n",
    "gc.enable()"
   ]
  },
  {
   "cell_type": "code",
   "execution_count": 6,
   "metadata": {},
   "outputs": [],
   "source": [
    "# path of dicom\n",
    "data_path = \"./data/dicom/\" # folder contains all dicoms\n",
    "output_path = \"./data/tiff/\" # output folder for tiff files\n",
    "\n",
    "data_path = './DICOMs/'\n",
    "output_path = './OutputTiff/'"
   ]
  },
  {
   "cell_type": "code",
   "execution_count": 7,
   "metadata": {},
   "outputs": [],
   "source": [
    "import os\n",
    "backIndex = 0\n",
    "path_lst = [f.path +\"/\" for f in os.scandir(data_path) if f.is_dir() ]  "
   ]
  },
  {
   "cell_type": "code",
   "execution_count": null,
   "metadata": {},
   "outputs": [],
   "source": [
    "#convert dicom to tiffs\n",
    "import yaml\n",
    "d = {}\n",
    "index = 0\n",
    "cur =0\n",
    "\n",
    "total = len(path_lst)\n",
    "for item in path_lst:\n",
    "    print(item)\n",
    "    if index + 1 < backIndex:\n",
    "        index = index + 1\n",
    "        continue\n",
    "        \n",
    "    print( \"Reading Dicom directory:\", item )\n",
    "    lef = item[len(data_path):]\n",
    "    pa = lef[0:lef.find(\"/\")]\n",
    "    if os.path.exists(output_path + pa + \".tif\"):\n",
    "        print(\"Skipping \", item)\n",
    "    else:\n",
    "        reader = itk.ImageSeriesReader()\n",
    "\n",
    "        dicom_names = reader.GetGDCMSeriesFileNames(item)\n",
    "        reader.SetFileNames(dicom_names)\n",
    "        reader.MetaDataDictionaryArrayUpdateOn()\n",
    "        reader.LoadPrivateTagsOn()\n",
    "\n",
    "        image = reader.Execute()\n",
    "\n",
    "        \n",
    "        for k in reader.GetMetaDataKeys(slice=0):\n",
    "            v = reader.GetMetaData(key=k,slice=0)\n",
    "            d[k] = v\n",
    "\n",
    "        np.save(output_path + pa + \".npy\", np.array(d))\n",
    "\n",
    "        size = image.GetSize()\n",
    "\n",
    "        print( \"Image size:\", size[0], size[1], size[2] )\n",
    "\n",
    "\n",
    "        a = yaml.load(str(np.array(d)))\n",
    "        images = itk.GetArrayFromImage(image).astype(np.int16)\n",
    "        images[images < -1024] = -1024\n",
    "        if a['0020|0013'] == '1 ': #do not need to flip\n",
    "            del image\n",
    "            image = itk.GetImageFromArray(images)\n",
    "            print( \"Writing image:\", output_path + pa + \".tif\" )\n",
    "            itk.WriteImage( image, output_path + pa + \".tif\" )\n",
    "            del reader, image, images\n",
    "        else:\n",
    "            # some of the cases need to flip\n",
    "            print( \"Flipping image...\")\n",
    "            images2 = itk.GetImageFromArray(np.flip(images,0))\n",
    "            print( \"Writing image:\", output_path + pa + \".tif\" )\n",
    "\n",
    "            itk.WriteImage( images2, output_path + pa + \".tif\" )\n",
    "            del reader, image, images, images2\n",
    "        gc.collect()\n",
    "        print(\"Writing down.\")\n",
    "    index += 1\n",
    "    if cur != int(index/total *100):\n",
    "        cur = int(index/total *100)\n",
    "        print(\"Progress {} %, curIndex {}\".format(cur, index))\n",
    "    "
   ]
  },
  {
   "cell_type": "code",
   "execution_count": 18,
   "metadata": {},
   "outputs": [],
   "source": [
    "# import pickle\n",
    "# for item in path_lst:\n",
    "# #     print(item)\n",
    "#     lef = item[len(data_path):]\n",
    "#     pa = lef[0:lef.find(\"/\")]\n",
    "#     print(output_path + pa + \".npy\")\n",
    "#     pkl = np.load(open(output_path + pa + \".npy\", \"rb\"), allow_pickle=True)\n",
    "\n",
    "#     pickle.dump(pkl, open(output_path + pa + \".npy2\",\"wb\"), protocol=2)"
   ]
  },
  {
   "cell_type": "code",
   "execution_count": null,
   "metadata": {},
   "outputs": [],
   "source": []
  }
 ],
 "metadata": {
  "kernelspec": {
   "display_name": "Python 3",
   "language": "python",
   "name": "python3"
  },
  "language_info": {
   "codemirror_mode": {
    "name": "ipython",
    "version": 3
   },
   "file_extension": ".py",
   "mimetype": "text/x-python",
   "name": "python",
   "nbconvert_exporter": "python",
   "pygments_lexer": "ipython3",
   "version": "3.8.5"
  }
 },
 "nbformat": 4,
 "nbformat_minor": 2
}
